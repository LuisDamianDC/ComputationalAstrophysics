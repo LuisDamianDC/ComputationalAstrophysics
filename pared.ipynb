{
 "cells": [
  {
   "cell_type": "code",
   "execution_count": 8,
   "metadata": {},
   "outputs": [],
   "source": [
    "# -*- coding: utf-8 -*-\n",
    "\"\"\"\n",
    "Created on Wed Apr  22 12:47:26 2024\n",
    "\n",
    "@author: LuisDamiánDC_\n",
    "\"\"\"\n",
    "import numpy as np\n",
    "import matplotlib.pyplot as plt\n",
    "import matplotlib.animation as animation\n",
    "N=1000 #Numero de celdas\n",
    "L=10.0 #Longitud de la malla\n",
    "Nc=0.4 #Numero de Courant\n",
    "dx=L/N\n",
    "a=0.6 #velocidad\n",
    "g=(5/3) #factor gamma"
   ]
  },
  {
   "cell_type": "markdown",
   "metadata": {},
   "source": [
    "Definición de variables y creación de arreglos."
   ]
  },
  {
   "cell_type": "code",
   "execution_count": 9,
   "metadata": {},
   "outputs": [
    {
     "name": "stdout",
     "output_type": "stream",
     "text": [
      "[array([1., 1., 1., ..., 1., 1., 1.]), array([0., 0., 0., ..., 0., 0., 0.]), array([1., 1., 1., ..., 1., 1., 1.])]\n"
     ]
    }
   ],
   "source": [
    "x=np.arange(0, L+2*dx, dx)\n",
    "rho=np.ones(N+2)\n",
    "Vx=np.zeros(N+2)\n",
    "\n",
    "def pe(x):\n",
    "    presion=[]\n",
    "    for i in range(x):\n",
    "        if i>x/4 and i<3*x/4: presion=np.append(presion, 10)\n",
    "        else: presion=np.append(presion, 1)\n",
    "    return presion\n",
    "\n",
    "#Arreglos\n",
    "pre=pe(N+2)\n",
    "P=[rho, Vx, pre]\n",
    "print(P)"
   ]
  },
  {
   "cell_type": "code",
   "execution_count": 10,
   "metadata": {},
   "outputs": [],
   "source": [
    "def primtocons(pe1):\n",
    "    uu=[np.zeros(N+2),np.zeros(N+2),np.zeros(N+2)]\n",
    "    for i in range (0, N+2):\n",
    "        uu[0][i]=pe1[0][i]\n",
    "        uu[1][i]=pe1[0][i]*pe1[1][i]\n",
    "        uu[2][i]=(1/2)*pe1[0][i]*pe1[1][i]**2+pe1[2][i]/(g-1)\n",
    "    return uu\n",
    "def primtoflux(pe2):\n",
    "    f=[np.zeros(N+2),np.zeros(N+2),np.zeros(N+2)]\n",
    "    for i in range (0, N+2):\n",
    "        f[0][i]=pe2[0][i]*pe2[1][i]\n",
    "        f[1][i]=pe2[0][i]*pe2[1][i]**2+pe2[2][i]\n",
    "        ef=(1/2)*pe2[0][i]*pe2[1][i]**2+pe2[2][i]\n",
    "        f[2][i]=(ef+pe2[2][i]*g/(g-1))*pe2[1][i]\n",
    "    return f\n",
    "def constoprim(u1):\n",
    "    p=[np.zeros(N+2),np.zeros(N+2),np.zeros(N+2)]\n",
    "    for i in range (0, N+2):\n",
    "        p[0][i]=u1[0][i]\n",
    "        p[1][i]=u1[1][i]/u1[0][i]\n",
    "        p[2][i]=(g-1)*(u1[2][i]-(1/2)*(u1[1][i]**2)/u1[0][i])\n",
    "    return p"
   ]
  },
  {
   "cell_type": "code",
   "execution_count": 11,
   "metadata": {},
   "outputs": [],
   "source": [
    "up=[np.zeros(N+2),np.zeros(N+2),np.zeros(N+2)]\n",
    "up=primtocons(P)\n",
    "F=primtoflux(P)"
   ]
  },
  {
   "cell_type": "code",
   "execution_count": 12,
   "metadata": {},
   "outputs": [],
   "source": [
    "tf=0.2 #tiempo final\n",
    "t=0\n",
    "while(t<tf):\n",
    "    for i in range (3): \n",
    "        up[i][0]=up[i][1]\n",
    "        up[i][N+1]=up[i][N]\n",
    "    U=[np.zeros(N+2),np.zeros(N+2),np.zeros(N+2)]\n",
    "    U=up\n",
    "    P=[np.zeros(N+2),np.zeros(N+2),np.zeros(N+2)]\n",
    "    P=constoprim(U)\n",
    "    dt=Nc*dx/(max(P[1]+np.sqrt(g*P[2]/P[0])+1)) #cambiarlo por el maximo del vector u\n",
    "    t=t+dt\n",
    "    F=[np.zeros(N+2),np.zeros(N+2),np.zeros(N+2)]\n",
    "    F=primtoflux(P)\n",
    "    for j in range(3):\n",
    "        for i in range(1, N+1):\n",
    "            Fr=(F[j][i]+F[j][i+1])/2-(dx/(2*dt))*(U[j][i+1]-U[j][i])\n",
    "            Fl=(F[j][i-1]+F[j][i])/2-(dx/(2*dt))*(U[j][i]-U[j][i-1])\n",
    "            up[j][i]=U[j][i]-(dt/dx)*(Fr-Fl)    "
   ]
  },
  {
   "cell_type": "code",
   "execution_count": 13,
   "metadata": {},
   "outputs": [
    {
     "data": {
      "text/plain": [
       "[<matplotlib.lines.Line2D at 0x170e16c6dd0>]"
      ]
     },
     "execution_count": 13,
     "metadata": {},
     "output_type": "execute_result"
    },
    {
     "data": {
      "image/png": "[encoded data removed]",
      "text/plain": [
       "<Figure size 640x480 with 1 Axes>"
      ]
     },
     "metadata": {},
     "output_type": "display_data"
    }
   ],
   "source": [
    "plt.plot(x, P[1], 'r')\n",
    "plt.plot(x, P[0], 'g')\n",
    "plt.plot(x, P[2], 'b',)"
   ]
  }
 ],
 "metadata": {
  "kernelspec": {
   "display_name": "Python 3",
   "language": "python",
   "name": "python3"
  },
  "language_info": {
   "codemirror_mode": {
    "name": "ipython",
    "version": 3
   },
   "file_extension": ".py",
   "mimetype": "text/x-python",
   "name": "python",
   "nbconvert_exporter": "python",
   "pygments_lexer": "ipython3",
   "version": "3.11.5"
  }
 },
 "nbformat": 4,
 "nbformat_minor": 2
}
